{
  "nbformat": 4,
  "nbformat_minor": 0,
  "metadata": {
    "colab": {
      "name": "fashion_classifier.ipynb",
      "provenance": [],
      "collapsed_sections": [],
      "mount_file_id": "1yoNr_XuBXevW-Fu7kF5H2dzRVJ-Yfhsg",
      "authorship_tag": "ABX9TyOdosQUx56twan6f/hHevlQ",
      "include_colab_link": true
    },
    "kernelspec": {
      "name": "python3",
      "display_name": "Python 3"
    },
    "accelerator": "GPU"
  },
  "cells": [
    {
      "cell_type": "markdown",
      "metadata": {
        "id": "view-in-github",
        "colab_type": "text"
      },
      "source": [
        "<a href=\"https://colab.research.google.com/github/sanjay-thiyagarajan/projects/blob/master/fashion_classifier.ipynb\" target=\"_parent\"><img src=\"https://colab.research.google.com/assets/colab-badge.svg\" alt=\"Open In Colab\"/></a>"
      ]
    },
    {
      "cell_type": "code",
      "metadata": {
        "id": "yygGLDtyb8ml"
      },
      "source": [
        "import tensorflow as tf #Google's Machine Learning Framework\n",
        "from tensorflow import keras #Deep Learning Library under TensorFlow\n",
        "from keras import Sequential #Sequential stack form for modelling\n",
        "from keras.layers import Dense #Dense layers for implementing Hidden Layers in the Neural Network\n",
        "import numpy as np #Library for numerical conversions and calculations\n",
        "import matplotlib.pyplot as plt # Library for data visualization\n",
        "from sklearn import metrics #Evaluation metrics for the model\n"
      ],
      "execution_count": null,
      "outputs": []
    },
    {
      "cell_type": "code",
      "metadata": {
        "id": "RErEN00SeDm0",
        "outputId": "aadb5e22-84c9-4233-e9ba-8c77d4f084bc",
        "colab": {
          "base_uri": "https://localhost:8080/",
          "height": 151
        }
      },
      "source": [
        "fashion_mnists = keras.datasets.fashion_mnist #MNIST Fashion Dataset is downloaded and then saved to the dataframe fashion_mnists\n",
        "(train_imgs,train_labels),(test_imgs,test_labels) = fashion_mnists.load_data() #The dataframe is segmented into appropriate training and test sets.\n"
      ],
      "execution_count": null,
      "outputs": [
        {
          "output_type": "stream",
          "text": [
            "Downloading data from https://storage.googleapis.com/tensorflow/tf-keras-datasets/train-labels-idx1-ubyte.gz\n",
            "32768/29515 [=================================] - 0s 0us/step\n",
            "Downloading data from https://storage.googleapis.com/tensorflow/tf-keras-datasets/train-images-idx3-ubyte.gz\n",
            "26427392/26421880 [==============================] - 0s 0us/step\n",
            "Downloading data from https://storage.googleapis.com/tensorflow/tf-keras-datasets/t10k-labels-idx1-ubyte.gz\n",
            "8192/5148 [===============================================] - 0s 0us/step\n",
            "Downloading data from https://storage.googleapis.com/tensorflow/tf-keras-datasets/t10k-images-idx3-ubyte.gz\n",
            "4423680/4422102 [==============================] - 0s 0us/step\n"
          ],
          "name": "stdout"
        }
      ]
    },
    {
      "cell_type": "code",
      "metadata": {
        "id": "cEVPhUEWl9b6",
        "outputId": "2db47be0-b708-4f3e-cfc1-ceac6dfda0c7",
        "colab": {
          "base_uri": "https://localhost:8080/",
          "height": 282
        }
      },
      "source": [
        "plt.imshow(train_imgs[6])"
      ],
      "execution_count": null,
      "outputs": [
        {
          "output_type": "execute_result",
          "data": {
            "text/plain": [
              "<matplotlib.image.AxesImage at 0x7ff43374a240>"
            ]
          },
          "metadata": {
            "tags": []
          },
          "execution_count": 9
        },
        {
          "output_type": "display_data",
          "data": {
            "image/png": "[encoded data removed]",
            "text/plain": [
              "<Figure size 432x288 with 1 Axes>"
            ]
          },
          "metadata": {
            "tags": [],
            "needs_background": "light"
          }
        }
      ]
    },
    {
      "cell_type": "code",
      "metadata": {
        "id": "gVGy7-LpmJX5"
      },
      "source": [
        "train_imgs = train_imgs / 255.0 #Pixel Resizing for training set\n",
        "test_imgs = test_imgs / 255.0 #Pixel Resizing for test set\n",
        "train_imgs = train_imgs.reshape(60000,28,28,1) #Training data is reshaped into 28x28 dimension and flatttened\n",
        "test_imgs = test_imgs.reshape(10000,28,28,1) #Test data is reshaped into 28x28 dimension and flattened"
      ],
      "execution_count": null,
      "outputs": []
    },
    {
      "cell_type": "code",
      "metadata": {
        "id": "yIRcRfL5mp5w",
        "outputId": "bae693b2-29fc-45d1-fd4d-b50b4f8ed4c9",
        "colab": {
          "base_uri": "https://localhost:8080/"
        }
      },
      "source": [
        "model = Sequential([ #model is attached to a Sequential stack\n",
        "                    keras.layers.Conv2D(64,(3,3),activation='relu',input_shape=(28,28,1)), #64 convolutional filters are applied at the first stage\n",
        "                    keras.layers.MaxPool2D(2,2), #The image is then filtered to half the existing dimension \n",
        "                    keras.layers.Conv2D(64,(3,3),activation='relu'), #image is then again passed through 64 convolutional filters but with filtered features\n",
        "                    keras.layers.MaxPool2D(2,2),#The image is again filtered to half the existing dimensions\n",
        "                    keras.layers.Flatten(), #The feature is then flattened to push through the hidden layers\n",
        "                    Dense(512, activation=tf.nn.relu), #Hidden layer with 512 neurons\n",
        "                    Dense(10, activation=tf.nn.softmax) #Hidden layer with 10 neurons for classification purpose\n",
        "])\n",
        "model.compile(optimizer='adam',loss='sparse_categorical_crossentropy',metrics=['accuracy']) #Uses Adam optimizer and Sparse categorical Cross entropy\n",
        "model.fit(train_imgs,train_labels, epochs=5) #5 epoch training is initiated"
      ],
      "execution_count": null,
      "outputs": [
        {
          "output_type": "stream",
          "text": [
            "Epoch 1/5\n",
            "1875/1875 [==============================] - 5s 3ms/step - loss: 2.3028 - accuracy: 0.0985\n",
            "Epoch 2/5\n",
            "1875/1875 [==============================] - 5s 2ms/step - loss: 2.3028 - accuracy: 0.0981\n",
            "Epoch 3/5\n",
            "1875/1875 [==============================] - 4s 2ms/step - loss: 2.3027 - accuracy: 0.0979\n",
            "Epoch 4/5\n",
            "1875/1875 [==============================] - 4s 2ms/step - loss: 2.3028 - accuracy: 0.0987\n",
            "Epoch 5/5\n",
            "1875/1875 [==============================] - 4s 2ms/step - loss: 2.3027 - accuracy: 0.0997\n"
          ],
          "name": "stdout"
        },
        {
          "output_type": "execute_result",
          "data": {
            "text/plain": [
              "<tensorflow.python.keras.callbacks.History at 0x7f7a2805ddd8>"
            ]
          },
          "metadata": {
            "tags": []
          },
          "execution_count": 40
        }
      ]
    },
    {
      "cell_type": "code",
      "metadata": {
        "id": "c7mOenEfo0Ba"
      },
      "source": [
        "model.save('/content/drive/My Drive/models/trained_model.h5') #Trained model is then saved "
      ],
      "execution_count": null,
      "outputs": []
    },
    {
      "cell_type": "code",
      "metadata": {
        "id": "nJb2aY96qtG_",
        "outputId": "af48b931-3251-48e8-887a-8018bb50a2fa",
        "colab": {
          "base_uri": "https://localhost:8080/"
        }
      },
      "source": [
        "model.evaluate(test_imgs,test_labels) #Model is evaluated with Loss and Accuracy as parameters\n",
        "pred =  model.predict(test_imgs)\n"
      ],
      "execution_count": null,
      "outputs": [
        {
          "output_type": "stream",
          "text": [
            "313/313 [==============================] - 1s 2ms/step - loss: 2.3027 - accuracy: 0.1000\n"
          ],
          "name": "stdout"
        }
      ]
    }
  ]
}